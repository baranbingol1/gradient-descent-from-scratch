{
 "cells": [
  {
   "cell_type": "markdown",
   "id": "ad813aac-7b3c-4a97-9b94-4d6c78f7ae0e",
   "metadata": {},
   "source": [
    "# Veri Analizi"
   ]
  },
  {
   "cell_type": "code",
   "execution_count": 11,
   "id": "04383b6a",
   "metadata": {},
   "outputs": [],
   "source": [
    "import numpy as np\n",
    "import pandas as pd\n",
    "import matplotlib.pyplot as plt\n",
    "\n",
    "train = pd.read_csv('train.csv', index_col=0)\n",
    "test = pd.read_csv('test.csv', index_col=0)"
   ]
  },
  {
   "cell_type": "code",
   "execution_count": 12,
   "id": "433fe449-54af-41c9-9730-3a398fea88f1",
   "metadata": {},
   "outputs": [
    {
     "data": {
      "text/html": [
       "<div>\n",
       "<style scoped>\n",
       "    .dataframe tbody tr th:only-of-type {\n",
       "        vertical-align: middle;\n",
       "    }\n",
       "\n",
       "    .dataframe tbody tr th {\n",
       "        vertical-align: top;\n",
       "    }\n",
       "\n",
       "    .dataframe thead th {\n",
       "        text-align: right;\n",
       "    }\n",
       "</style>\n",
       "<table border=\"1\" class=\"dataframe\">\n",
       "  <thead>\n",
       "    <tr style=\"text-align: right;\">\n",
       "      <th></th>\n",
       "      <th>housing_median_age</th>\n",
       "      <th>total_rooms</th>\n",
       "      <th>total_bedrooms</th>\n",
       "      <th>population</th>\n",
       "      <th>households</th>\n",
       "      <th>median_income</th>\n",
       "      <th>ocean_proximity_INLAND</th>\n",
       "      <th>ocean_proximity_ISLAND</th>\n",
       "      <th>ocean_proximity_NEAR BAY</th>\n",
       "      <th>ocean_proximity_NEAR OCEAN</th>\n",
       "      <th>median_house_value</th>\n",
       "    </tr>\n",
       "  </thead>\n",
       "  <tbody>\n",
       "    <tr>\n",
       "      <th>0</th>\n",
       "      <td>0.210526</td>\n",
       "      <td>0.584408</td>\n",
       "      <td>0.542470</td>\n",
       "      <td>1.209178</td>\n",
       "      <td>0.653374</td>\n",
       "      <td>-0.129709</td>\n",
       "      <td>0.0</td>\n",
       "      <td>0.0</td>\n",
       "      <td>0.0</td>\n",
       "      <td>1.0</td>\n",
       "      <td>103000.0</td>\n",
       "    </tr>\n",
       "    <tr>\n",
       "      <th>1</th>\n",
       "      <td>1.052632</td>\n",
       "      <td>0.734467</td>\n",
       "      <td>0.999286</td>\n",
       "      <td>0.156884</td>\n",
       "      <td>1.061350</td>\n",
       "      <td>0.120872</td>\n",
       "      <td>0.0</td>\n",
       "      <td>0.0</td>\n",
       "      <td>0.0</td>\n",
       "      <td>1.0</td>\n",
       "      <td>382100.0</td>\n",
       "    </tr>\n",
       "    <tr>\n",
       "      <th>2</th>\n",
       "      <td>-1.315789</td>\n",
       "      <td>-0.135991</td>\n",
       "      <td>-0.302641</td>\n",
       "      <td>-0.268943</td>\n",
       "      <td>-0.226994</td>\n",
       "      <td>0.276686</td>\n",
       "      <td>0.0</td>\n",
       "      <td>0.0</td>\n",
       "      <td>0.0</td>\n",
       "      <td>1.0</td>\n",
       "      <td>172600.0</td>\n",
       "    </tr>\n",
       "    <tr>\n",
       "      <th>3</th>\n",
       "      <td>0.368421</td>\n",
       "      <td>-0.415006</td>\n",
       "      <td>-0.199857</td>\n",
       "      <td>0.267876</td>\n",
       "      <td>-0.168712</td>\n",
       "      <td>-0.726634</td>\n",
       "      <td>0.0</td>\n",
       "      <td>0.0</td>\n",
       "      <td>0.0</td>\n",
       "      <td>1.0</td>\n",
       "      <td>93400.0</td>\n",
       "    </tr>\n",
       "    <tr>\n",
       "      <th>4</th>\n",
       "      <td>0.736842</td>\n",
       "      <td>0.148300</td>\n",
       "      <td>-0.017131</td>\n",
       "      <td>-0.312700</td>\n",
       "      <td>-0.092025</td>\n",
       "      <td>0.003807</td>\n",
       "      <td>1.0</td>\n",
       "      <td>0.0</td>\n",
       "      <td>0.0</td>\n",
       "      <td>0.0</td>\n",
       "      <td>96500.0</td>\n",
       "    </tr>\n",
       "  </tbody>\n",
       "</table>\n",
       "</div>"
      ],
      "text/plain": [
       "   housing_median_age  total_rooms  total_bedrooms  population  households  \\\n",
       "0            0.210526     0.584408        0.542470    1.209178    0.653374   \n",
       "1            1.052632     0.734467        0.999286    0.156884    1.061350   \n",
       "2           -1.315789    -0.135991       -0.302641   -0.268943   -0.226994   \n",
       "3            0.368421    -0.415006       -0.199857    0.267876   -0.168712   \n",
       "4            0.736842     0.148300       -0.017131   -0.312700   -0.092025   \n",
       "\n",
       "   median_income  ocean_proximity_INLAND  ocean_proximity_ISLAND  \\\n",
       "0      -0.129709                     0.0                     0.0   \n",
       "1       0.120872                     0.0                     0.0   \n",
       "2       0.276686                     0.0                     0.0   \n",
       "3      -0.726634                     0.0                     0.0   \n",
       "4       0.003807                     1.0                     0.0   \n",
       "\n",
       "   ocean_proximity_NEAR BAY  ocean_proximity_NEAR OCEAN  median_house_value  \n",
       "0                       0.0                         1.0            103000.0  \n",
       "1                       0.0                         1.0            382100.0  \n",
       "2                       0.0                         1.0            172600.0  \n",
       "3                       0.0                         1.0             93400.0  \n",
       "4                       0.0                         0.0             96500.0  "
      ]
     },
     "execution_count": 12,
     "metadata": {},
     "output_type": "execute_result"
    }
   ],
   "source": [
    "train.head()"
   ]
  },
  {
   "cell_type": "code",
   "execution_count": 13,
   "id": "d3f6c15f-c1ff-4c16-bb78-e1eeebda3089",
   "metadata": {},
   "outputs": [
    {
     "data": {
      "text/html": [
       "<div>\n",
       "<style scoped>\n",
       "    .dataframe tbody tr th:only-of-type {\n",
       "        vertical-align: middle;\n",
       "    }\n",
       "\n",
       "    .dataframe tbody tr th {\n",
       "        vertical-align: top;\n",
       "    }\n",
       "\n",
       "    .dataframe thead th {\n",
       "        text-align: right;\n",
       "    }\n",
       "</style>\n",
       "<table border=\"1\" class=\"dataframe\">\n",
       "  <thead>\n",
       "    <tr style=\"text-align: right;\">\n",
       "      <th></th>\n",
       "      <th>housing_median_age</th>\n",
       "      <th>total_rooms</th>\n",
       "      <th>total_bedrooms</th>\n",
       "      <th>population</th>\n",
       "      <th>households</th>\n",
       "      <th>median_income</th>\n",
       "      <th>ocean_proximity_INLAND</th>\n",
       "      <th>ocean_proximity_ISLAND</th>\n",
       "      <th>ocean_proximity_NEAR BAY</th>\n",
       "      <th>ocean_proximity_NEAR OCEAN</th>\n",
       "      <th>median_house_value</th>\n",
       "    </tr>\n",
       "  </thead>\n",
       "  <tbody>\n",
       "    <tr>\n",
       "      <th>0</th>\n",
       "      <td>-0.210526</td>\n",
       "      <td>-0.365768</td>\n",
       "      <td>-0.00571</td>\n",
       "      <td>0.240128</td>\n",
       "      <td>-0.156442</td>\n",
       "      <td>-0.845058</td>\n",
       "      <td>1.0</td>\n",
       "      <td>0.0</td>\n",
       "      <td>0.0</td>\n",
       "      <td>0.0</td>\n",
       "      <td>47700.0</td>\n",
       "    </tr>\n",
       "    <tr>\n",
       "      <th>1</th>\n",
       "      <td>0.052632</td>\n",
       "      <td>0.477140</td>\n",
       "      <td>-0.00571</td>\n",
       "      <td>0.424760</td>\n",
       "      <td>0.533742</td>\n",
       "      <td>-0.459783</td>\n",
       "      <td>1.0</td>\n",
       "      <td>0.0</td>\n",
       "      <td>0.0</td>\n",
       "      <td>0.0</td>\n",
       "      <td>45800.0</td>\n",
       "    </tr>\n",
       "    <tr>\n",
       "      <th>2</th>\n",
       "      <td>1.210526</td>\n",
       "      <td>0.997069</td>\n",
       "      <td>-0.00571</td>\n",
       "      <td>0.152615</td>\n",
       "      <td>1.696319</td>\n",
       "      <td>-0.029776</td>\n",
       "      <td>0.0</td>\n",
       "      <td>0.0</td>\n",
       "      <td>1.0</td>\n",
       "      <td>0.0</td>\n",
       "      <td>500001.0</td>\n",
       "    </tr>\n",
       "    <tr>\n",
       "      <th>3</th>\n",
       "      <td>-0.631579</td>\n",
       "      <td>0.540445</td>\n",
       "      <td>-0.00571</td>\n",
       "      <td>0.574173</td>\n",
       "      <td>0.260736</td>\n",
       "      <td>0.993349</td>\n",
       "      <td>0.0</td>\n",
       "      <td>0.0</td>\n",
       "      <td>0.0</td>\n",
       "      <td>0.0</td>\n",
       "      <td>218600.0</td>\n",
       "    </tr>\n",
       "    <tr>\n",
       "      <th>4</th>\n",
       "      <td>0.263158</td>\n",
       "      <td>0.130129</td>\n",
       "      <td>-0.00571</td>\n",
       "      <td>-0.110993</td>\n",
       "      <td>0.055215</td>\n",
       "      <td>0.081216</td>\n",
       "      <td>0.0</td>\n",
       "      <td>0.0</td>\n",
       "      <td>0.0</td>\n",
       "      <td>1.0</td>\n",
       "      <td>278000.0</td>\n",
       "    </tr>\n",
       "  </tbody>\n",
       "</table>\n",
       "</div>"
      ],
      "text/plain": [
       "   housing_median_age  total_rooms  total_bedrooms  population  households  \\\n",
       "0           -0.210526    -0.365768        -0.00571    0.240128   -0.156442   \n",
       "1            0.052632     0.477140        -0.00571    0.424760    0.533742   \n",
       "2            1.210526     0.997069        -0.00571    0.152615    1.696319   \n",
       "3           -0.631579     0.540445        -0.00571    0.574173    0.260736   \n",
       "4            0.263158     0.130129        -0.00571   -0.110993    0.055215   \n",
       "\n",
       "   median_income  ocean_proximity_INLAND  ocean_proximity_ISLAND  \\\n",
       "0      -0.845058                     1.0                     0.0   \n",
       "1      -0.459783                     1.0                     0.0   \n",
       "2      -0.029776                     0.0                     0.0   \n",
       "3       0.993349                     0.0                     0.0   \n",
       "4       0.081216                     0.0                     0.0   \n",
       "\n",
       "   ocean_proximity_NEAR BAY  ocean_proximity_NEAR OCEAN  median_house_value  \n",
       "0                       0.0                         0.0             47700.0  \n",
       "1                       0.0                         0.0             45800.0  \n",
       "2                       1.0                         0.0            500001.0  \n",
       "3                       0.0                         0.0            218600.0  \n",
       "4                       0.0                         1.0            278000.0  "
      ]
     },
     "execution_count": 13,
     "metadata": {},
     "output_type": "execute_result"
    }
   ],
   "source": [
    "test.head()"
   ]
  },
  {
   "cell_type": "code",
   "execution_count": 14,
   "id": "3fa1be69-9dbf-4568-9607-d8c13a16c388",
   "metadata": {},
   "outputs": [
    {
     "name": "stdout",
     "output_type": "stream",
     "text": [
      "<class 'pandas.core.frame.DataFrame'>\n",
      "Index: 16512 entries, 0 to 16511\n",
      "Data columns (total 11 columns):\n",
      " #   Column                      Non-Null Count  Dtype  \n",
      "---  ------                      --------------  -----  \n",
      " 0   housing_median_age          16512 non-null  float64\n",
      " 1   total_rooms                 16512 non-null  float64\n",
      " 2   total_bedrooms              16512 non-null  float64\n",
      " 3   population                  16512 non-null  float64\n",
      " 4   households                  16512 non-null  float64\n",
      " 5   median_income               16512 non-null  float64\n",
      " 6   ocean_proximity_INLAND      16512 non-null  float64\n",
      " 7   ocean_proximity_ISLAND      16512 non-null  float64\n",
      " 8   ocean_proximity_NEAR BAY    16512 non-null  float64\n",
      " 9   ocean_proximity_NEAR OCEAN  16512 non-null  float64\n",
      " 10  median_house_value          16512 non-null  float64\n",
      "dtypes: float64(11)\n",
      "memory usage: 1.5 MB\n"
     ]
    }
   ],
   "source": [
    "train.info()"
   ]
  },
  {
   "cell_type": "code",
   "execution_count": 21,
   "id": "27c10615-2b24-41de-be7a-928521007b93",
   "metadata": {},
   "outputs": [
    {
     "data": {
      "text/html": [
       "<div>\n",
       "<style scoped>\n",
       "    .dataframe tbody tr th:only-of-type {\n",
       "        vertical-align: middle;\n",
       "    }\n",
       "\n",
       "    .dataframe tbody tr th {\n",
       "        vertical-align: top;\n",
       "    }\n",
       "\n",
       "    .dataframe thead th {\n",
       "        text-align: right;\n",
       "    }\n",
       "</style>\n",
       "<table border=\"1\" class=\"dataframe\">\n",
       "  <thead>\n",
       "    <tr style=\"text-align: right;\">\n",
       "      <th></th>\n",
       "      <th>count</th>\n",
       "      <th>mean</th>\n",
       "      <th>std</th>\n",
       "      <th>min</th>\n",
       "      <th>25%</th>\n",
       "      <th>50%</th>\n",
       "      <th>75%</th>\n",
       "      <th>max</th>\n",
       "    </tr>\n",
       "  </thead>\n",
       "  <tbody>\n",
       "    <tr>\n",
       "      <th>housing_median_age</th>\n",
       "      <td>16512.0</td>\n",
       "      <td>-0.020617</td>\n",
       "      <td>0.663289</td>\n",
       "      <td>-1.473684</td>\n",
       "      <td>-0.578947</td>\n",
       "      <td>0.000000e+00</td>\n",
       "      <td>0.421053</td>\n",
       "      <td>1.210526</td>\n",
       "    </tr>\n",
       "    <tr>\n",
       "      <th>total_rooms</th>\n",
       "      <td>16512.0</td>\n",
       "      <td>0.300706</td>\n",
       "      <td>1.274705</td>\n",
       "      <td>-1.246776</td>\n",
       "      <td>-0.395662</td>\n",
       "      <td>0.000000e+00</td>\n",
       "      <td>0.604338</td>\n",
       "      <td>21.800117</td>\n",
       "    </tr>\n",
       "    <tr>\n",
       "      <th>total_bedrooms</th>\n",
       "      <td>16512.0</td>\n",
       "      <td>0.289784</td>\n",
       "      <td>1.196309</td>\n",
       "      <td>-1.244825</td>\n",
       "      <td>-0.400428</td>\n",
       "      <td>0.000000e+00</td>\n",
       "      <td>0.599572</td>\n",
       "      <td>17.153462</td>\n",
       "    </tr>\n",
       "    <tr>\n",
       "      <th>population</th>\n",
       "      <td>16512.0</td>\n",
       "      <td>0.276898</td>\n",
       "      <td>1.213507</td>\n",
       "      <td>-1.242263</td>\n",
       "      <td>-0.403415</td>\n",
       "      <td>0.000000e+00</td>\n",
       "      <td>0.596585</td>\n",
       "      <td>36.835646</td>\n",
       "    </tr>\n",
       "    <tr>\n",
       "      <th>households</th>\n",
       "      <td>16512.0</td>\n",
       "      <td>0.276033</td>\n",
       "      <td>1.168613</td>\n",
       "      <td>-1.254601</td>\n",
       "      <td>-0.398773</td>\n",
       "      <td>0.000000e+00</td>\n",
       "      <td>0.601227</td>\n",
       "      <td>17.398773</td>\n",
       "    </tr>\n",
       "    <tr>\n",
       "      <th>median_income</th>\n",
       "      <td>16512.0</td>\n",
       "      <td>0.151805</td>\n",
       "      <td>0.863048</td>\n",
       "      <td>-1.380437</td>\n",
       "      <td>-0.443739</td>\n",
       "      <td>9.999055e-17</td>\n",
       "      <td>0.556261</td>\n",
       "      <td>5.191221</td>\n",
       "    </tr>\n",
       "  </tbody>\n",
       "</table>\n",
       "</div>"
      ],
      "text/plain": [
       "                      count      mean       std       min       25%  \\\n",
       "housing_median_age  16512.0 -0.020617  0.663289 -1.473684 -0.578947   \n",
       "total_rooms         16512.0  0.300706  1.274705 -1.246776 -0.395662   \n",
       "total_bedrooms      16512.0  0.289784  1.196309 -1.244825 -0.400428   \n",
       "population          16512.0  0.276898  1.213507 -1.242263 -0.403415   \n",
       "households          16512.0  0.276033  1.168613 -1.254601 -0.398773   \n",
       "median_income       16512.0  0.151805  0.863048 -1.380437 -0.443739   \n",
       "\n",
       "                             50%       75%        max  \n",
       "housing_median_age  0.000000e+00  0.421053   1.210526  \n",
       "total_rooms         0.000000e+00  0.604338  21.800117  \n",
       "total_bedrooms      0.000000e+00  0.599572  17.153462  \n",
       "population          0.000000e+00  0.596585  36.835646  \n",
       "households          0.000000e+00  0.601227  17.398773  \n",
       "median_income       9.999055e-17  0.556261   5.191221  "
      ]
     },
     "execution_count": 21,
     "metadata": {},
     "output_type": "execute_result"
    }
   ],
   "source": [
    "train[train.columns[:6]].describe().T"
   ]
  },
  {
   "cell_type": "code",
   "execution_count": 28,
   "id": "57e90b37-2c2f-4292-9e21-54864a098021",
   "metadata": {},
   "outputs": [
    {
     "data": {
      "image/png": "[encoded data removed]",
      "text/plain": [
       "<Figure size 1000x1000 with 6 Axes>"
      ]
     },
     "metadata": {},
     "output_type": "display_data"
    }
   ],
   "source": [
    "float_cols = train.columns[:6].values\n",
    "\n",
    "fig, axs = plt.subplots(len(float_cols), figsize=(10, 10))\n",
    "\n",
    "for i, feature in enumerate(float_cols):\n",
    "    ax = axs[i]\n",
    "    ax.hist(train[feature], bins='auto')\n",
    "    ax.set_title(f'{feature} özniteliğinin histogramı')\n",
    "\n",
    "plt.tight_layout()\n",
    "plt.show()"
   ]
  },
  {
   "cell_type": "code",
   "execution_count": 35,
   "id": "3a4f3f4f-970c-4ea3-a270-d7f801e6c50c",
   "metadata": {},
   "outputs": [],
   "source": [
    "X = train.drop(columns=['median_house_value'])\n",
    "y = train['median_house_value']"
   ]
  },
  {
   "cell_type": "code",
   "execution_count": 36,
   "id": "de19e111",
   "metadata": {},
   "outputs": [],
   "source": [
    "# Veriye \"bias\" ekleyelim\n",
    "X_b = np.c_[np.ones((len(X), 1)), X]\n",
    "\n",
    "# Güncellenecek katsayıları random değerlerle başlatalım\n",
    "theta = np.random.randn(X_b.shape[1], 1)\n",
    "\n",
    "# Öğrenme oranı ve iterasyon sayısını belirleyelim\n",
    "learning_rate = 0.01\n",
    "iterations = 1000\n",
    "\n",
    "# Gradient descent algoritması\n",
    "def compute_cost(X, y, theta):\n",
    "    \"\"\"\n",
    "    X : özniteliklerin değerleri -> vector (1 boyutlu numpy array)\n",
    "    y : hedef değerler -> vector (1 boyutlu numpy array)\n",
    "    theta : tahminler -> vector (1 boyutlu numpy array)\n",
    "\n",
    "    Maliyet'i döndürür -> float\n",
    "    \"\"\"\n",
    "    m = len(y)\n",
    "    predictions = X.dot(theta)\n",
    "    cost = (1/(2*m)) * np.sum(np.square(predictions - y))\n",
    "    return cost"
   ]
  },
  {
   "cell_type": "code",
   "execution_count": 37,
   "id": "28154bfc",
   "metadata": {},
   "outputs": [],
   "source": [
    "def gradient_descent(X, y, theta, learning_rate, iterations):\n",
    "    m = len(y)\n",
    "    cost_history = np.zeros(iterations) # grafik için\n",
    "    \n",
    "    for i in range(iterations):\n",
    "        predictions = X.dot(theta)\n",
    "        errors = predictions - y\n",
    "        gradient = (1/m) * X.T.dot(errors)\n",
    "        theta = theta - learning_rate * gradient\n",
    "        cost_history[i] = compute_cost(X, y, theta)\n",
    "    \n",
    "    return theta, cost_history\n",
    "\n",
    "theta_final, cost_history = gradient_descent(X_b, y.values.reshape(-1, 1), theta, learning_rate, iterations)"
   ]
  },
  {
   "cell_type": "code",
   "execution_count": 38,
   "id": "8767f8e7",
   "metadata": {},
   "outputs": [
    {
     "data": {
      "image/png": "[encoded data removed]",
      "text/plain": [
       "<Figure size 640x480 with 1 Axes>"
      ]
     },
     "metadata": {},
     "output_type": "display_data"
    }
   ],
   "source": [
    "plt.plot(range(1, iterations + 1), cost_history, color='blue')\n",
    "plt.xlabel('Iterasyonlar')\n",
    "plt.ylabel('Maliyetler')\n",
    "plt.title('Maliyet vs. Iterasyonlar')\n",
    "plt.show()"
   ]
  },
  {
   "cell_type": "code",
   "execution_count": 39,
   "id": "cbb5893b-130d-4680-9b7c-5018a3ffd764",
   "metadata": {},
   "outputs": [
    {
     "data": {
      "text/plain": [
       "array([[197074.29561533],\n",
       "       [ 27126.86879788],\n",
       "       [ -8424.34873639],\n",
       "       [ 21312.05519064],\n",
       "       [-27114.80668151],\n",
       "       [ 21935.44763277],\n",
       "       [ 91807.12067296],\n",
       "       [-43529.27302776],\n",
       "       [   495.71027925],\n",
       "       [ 25195.27620178],\n",
       "       [ 32634.40001149]])"
      ]
     },
     "execution_count": 39,
     "metadata": {},
     "output_type": "execute_result"
    }
   ],
   "source": [
    "# Veri setinin son katsayıları\n",
    "theta_final"
   ]
  },
  {
   "cell_type": "code",
   "execution_count": 41,
   "id": "cdd5f392-e499-4674-85b1-8d6680048053",
   "metadata": {},
   "outputs": [],
   "source": [
    "# theta_final ile test verisi üzerinde tahmin yapabiliriz\n",
    "X_test = test.drop('median_house_value', axis=1)\n",
    "y_test = test['median_house_value']\n",
    "\n",
    "# tahminden önce test verisine bias ekleyelim\n",
    "X_test_b = np.c_[np.ones((len(X_test), 1)), X_test]\n",
    "\n",
    "predictions = X_test_b.dot(theta_final)"
   ]
  },
  {
   "cell_type": "code",
   "execution_count": 42,
   "id": "14f502b2-5d6e-486c-b0ff-4d01ef4d71b4",
   "metadata": {},
   "outputs": [
    {
     "name": "stdout",
     "output_type": "stream",
     "text": [
      "Mean Absolute Error (MAE): 51405.23962720822\n",
      "Mean Squared Error (MSE): 5132486318.322577\n",
      "Root Mean Squared Error (RMSE): 71641.37295112773\n"
     ]
    }
   ],
   "source": [
    "from sklearn.metrics import mean_absolute_error, mean_squared_error\n",
    "\n",
    "# Ortalama Mutlak Hata (MAE)\n",
    "mae = mean_absolute_error(y_test, predictions)\n",
    "print(\"Mean Absolute Error (MAE):\", mae)\n",
    "\n",
    "# Ortalama Kare Hata (MSE)\n",
    "mse = mean_squared_error(y_test, predictions)\n",
    "print(\"Mean Squared Error (MSE):\", mse)\n",
    "\n",
    "# Kök Ortalama Kare Hata (RMSE)\n",
    "rmse = np.sqrt(mse)\n",
    "print(\"Root Mean Squared Error (RMSE):\", rmse)"
   ]
  },
  {
   "cell_type": "code",
   "execution_count": 45,
   "id": "fb98a6cc-408b-423b-9ad0-491a79447bd7",
   "metadata": {},
   "outputs": [
    {
     "data": {
      "text/plain": [
       "25.014677461563018"
      ]
     },
     "execution_count": 45,
     "metadata": {},
     "output_type": "execute_result"
    }
   ],
   "source": [
    "mae/test.median_house_value.mean() * 100"
   ]
  },
  {
   "cell_type": "markdown",
   "id": "e74a006a-0d2c-4a3c-8152-8614a5241e2e",
   "metadata": {},
   "source": [
    "%25'lik bir hata oranıyla ev fiyatını tahmin edebiliyoruz."
   ]
  }
 ],
 "metadata": {
  "kernelspec": {
   "display_name": "Python 3 (ipykernel)",
   "language": "python",
   "name": "python3"
  },
  "language_info": {
   "codemirror_mode": {
    "name": "ipython",
    "version": 3
   },
   "file_extension": ".py",
   "mimetype": "text/x-python",
   "name": "python",
   "nbconvert_exporter": "python",
   "pygments_lexer": "ipython3",
   "version": "3.10.11"
  }
 },
 "nbformat": 4,
 "nbformat_minor": 5
}
